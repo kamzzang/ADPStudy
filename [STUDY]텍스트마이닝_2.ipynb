{
 "cells": [
  {
   "cell_type": "markdown",
   "metadata": {},
   "source": [
    "# 텍스트 마이밍_2\n",
    "* 온라인 교육사이트 댓글분석    \n",
    "* 참조 : https://github.com/corazzon/inflearn-new-year-event-2020"
   ]
  },
  {
   "cell_type": "code",
   "execution_count": 12,
   "metadata": {},
   "outputs": [],
   "source": [
    "import pandas as pd\n",
    "import numpy as np\n",
    "\n",
    "import matplotlib.pyplot as plt\n",
    "\n",
    "plt.rc('font', family='Malgun Gothic')\n",
    "plt.rc('axes', unicode_minus=False)\n",
    "\n",
    "%matplotlib inline"
   ]
  },
  {
   "cell_type": "code",
   "execution_count": 13,
   "metadata": {},
   "outputs": [
    {
     "data": {
      "text/plain": [
       "(517, 1)"
      ]
     },
     "execution_count": 13,
     "metadata": {},
     "output_type": "execute_result"
    }
   ],
   "source": [
    "df = pd.read_csv(\"inflearn-event.csv\", encoding='euc-kr')\n",
    "df.shape"
   ]
  },
  {
   "cell_type": "code",
   "execution_count": 14,
   "metadata": {},
   "outputs": [
    {
     "data": {
      "text/html": [
       "<div>\n",
       "<style scoped>\n",
       "    .dataframe tbody tr th:only-of-type {\n",
       "        vertical-align: middle;\n",
       "    }\n",
       "\n",
       "    .dataframe tbody tr th {\n",
       "        vertical-align: top;\n",
       "    }\n",
       "\n",
       "    .dataframe thead th {\n",
       "        text-align: right;\n",
       "    }\n",
       "</style>\n",
       "<table border=\"1\" class=\"dataframe\">\n",
       "  <thead>\n",
       "    <tr style=\"text-align: right;\">\n",
       "      <th></th>\n",
       "      <th>text</th>\n",
       "    </tr>\n",
       "  </thead>\n",
       "  <tbody>\n",
       "    <tr>\n",
       "      <th>0</th>\n",
       "      <td>2020년  목표: 프알못에서 프로젝트 마스터 되기 \\n관심 있는 강의 : 스프링 ...</td>\n",
       "    </tr>\n",
       "    <tr>\n",
       "      <th>1</th>\n",
       "      <td>2020년 목표: 스프링 열심히 공부하서 직장에서 사랑받고 싶어요!!\\n관심 있는 ...</td>\n",
       "    </tr>\n",
       "    <tr>\n",
       "      <th>2</th>\n",
       "      <td>2020년 목표: C++ 열심히 공부해서, 학교에서 꼭 A 맞기..!! \\n관심있는...</td>\n",
       "    </tr>\n",
       "    <tr>\n",
       "      <th>3</th>\n",
       "      <td>2020년 목표 : 리액트 공부하기</td>\n",
       "    </tr>\n",
       "    <tr>\n",
       "      <th>4</th>\n",
       "      <td>40대 프로그래밍 시작! : 우리를 위한 프로그래밍 : 파이썬 중급</td>\n",
       "    </tr>\n",
       "  </tbody>\n",
       "</table>\n",
       "</div>"
      ],
      "text/plain": [
       "                                                text\n",
       "0  2020년  목표: 프알못에서 프로젝트 마스터 되기 \\n관심 있는 강의 : 스프링 ...\n",
       "1  2020년 목표: 스프링 열심히 공부하서 직장에서 사랑받고 싶어요!!\\n관심 있는 ...\n",
       "2  2020년 목표: C++ 열심히 공부해서, 학교에서 꼭 A 맞기..!! \\n관심있는...\n",
       "3                                2020년 목표 : 리액트 공부하기\n",
       "4              40대 프로그래밍 시작! : 우리를 위한 프로그래밍 : 파이썬 중급"
      ]
     },
     "execution_count": 14,
     "metadata": {},
     "output_type": "execute_result"
    }
   ],
   "source": [
    "df.head()"
   ]
  },
  {
   "cell_type": "markdown",
   "metadata": {},
   "source": [
    "## 1. 데이터 전처리"
   ]
  },
  {
   "cell_type": "markdown",
   "metadata": {},
   "source": [
    "* 중복데이터 제거"
   ]
  },
  {
   "cell_type": "code",
   "execution_count": 15,
   "metadata": {},
   "outputs": [
    {
     "name": "stdout",
     "output_type": "stream",
     "text": [
      "(517, 1)\n",
      "(512, 1)\n"
     ]
    }
   ],
   "source": [
    "print(df.shape)\n",
    "df = df.drop_duplicates(['text'], keep='last')\n",
    "print(df.shape)"
   ]
  },
  {
   "cell_type": "markdown",
   "metadata": {},
   "source": [
    "* 원본은 따로 보존    \n",
    "  전처리 전에 원본을 보존하기 위해 복사함"
   ]
  },
  {
   "cell_type": "code",
   "execution_count": 17,
   "metadata": {},
   "outputs": [
    {
     "data": {
      "text/html": [
       "<div>\n",
       "<style scoped>\n",
       "    .dataframe tbody tr th:only-of-type {\n",
       "        vertical-align: middle;\n",
       "    }\n",
       "\n",
       "    .dataframe tbody tr th {\n",
       "        vertical-align: top;\n",
       "    }\n",
       "\n",
       "    .dataframe thead th {\n",
       "        text-align: right;\n",
       "    }\n",
       "</style>\n",
       "<table border=\"1\" class=\"dataframe\">\n",
       "  <thead>\n",
       "    <tr style=\"text-align: right;\">\n",
       "      <th></th>\n",
       "      <th>text</th>\n",
       "      <th>origin_text</th>\n",
       "    </tr>\n",
       "  </thead>\n",
       "  <tbody>\n",
       "    <tr>\n",
       "      <th>0</th>\n",
       "      <td>2020년  목표: 프알못에서 프로젝트 마스터 되기 \\n관심 있는 강의 : 스프링 ...</td>\n",
       "      <td>2020년  목표: 프알못에서 프로젝트 마스터 되기 \\n관심 있는 강의 : 스프링 ...</td>\n",
       "    </tr>\n",
       "    <tr>\n",
       "      <th>1</th>\n",
       "      <td>2020년 목표: 스프링 열심히 공부하서 직장에서 사랑받고 싶어요!!\\n관심 있는 ...</td>\n",
       "      <td>2020년 목표: 스프링 열심히 공부하서 직장에서 사랑받고 싶어요!!\\n관심 있는 ...</td>\n",
       "    </tr>\n",
       "    <tr>\n",
       "      <th>2</th>\n",
       "      <td>2020년 목표: C++ 열심히 공부해서, 학교에서 꼭 A 맞기..!! \\n관심있는...</td>\n",
       "      <td>2020년 목표: C++ 열심히 공부해서, 학교에서 꼭 A 맞기..!! \\n관심있는...</td>\n",
       "    </tr>\n",
       "    <tr>\n",
       "      <th>4</th>\n",
       "      <td>40대 프로그래밍 시작! : 우리를 위한 프로그래밍 : 파이썬 중급</td>\n",
       "      <td>40대 프로그래밍 시작! : 우리를 위한 프로그래밍 : 파이썬 중급</td>\n",
       "    </tr>\n",
       "    <tr>\n",
       "      <th>5</th>\n",
       "      <td>2020년 목표 : 돌머리 비전공자가 멋진 전공자 되기!</td>\n",
       "      <td>2020년 목표 : 돌머리 비전공자가 멋진 전공자 되기!</td>\n",
       "    </tr>\n",
       "  </tbody>\n",
       "</table>\n",
       "</div>"
      ],
      "text/plain": [
       "                                                text  \\\n",
       "0  2020년  목표: 프알못에서 프로젝트 마스터 되기 \\n관심 있는 강의 : 스프링 ...   \n",
       "1  2020년 목표: 스프링 열심히 공부하서 직장에서 사랑받고 싶어요!!\\n관심 있는 ...   \n",
       "2  2020년 목표: C++ 열심히 공부해서, 학교에서 꼭 A 맞기..!! \\n관심있는...   \n",
       "4              40대 프로그래밍 시작! : 우리를 위한 프로그래밍 : 파이썬 중급   \n",
       "5                    2020년 목표 : 돌머리 비전공자가 멋진 전공자 되기!   \n",
       "\n",
       "                                         origin_text  \n",
       "0  2020년  목표: 프알못에서 프로젝트 마스터 되기 \\n관심 있는 강의 : 스프링 ...  \n",
       "1  2020년 목표: 스프링 열심히 공부하서 직장에서 사랑받고 싶어요!!\\n관심 있는 ...  \n",
       "2  2020년 목표: C++ 열심히 공부해서, 학교에서 꼭 A 맞기..!! \\n관심있는...  \n",
       "4              40대 프로그래밍 시작! : 우리를 위한 프로그래밍 : 파이썬 중급  \n",
       "5                    2020년 목표 : 돌머리 비전공자가 멋진 전공자 되기!  "
      ]
     },
     "execution_count": 17,
     "metadata": {},
     "output_type": "execute_result"
    }
   ],
   "source": [
    "df['origin_text'] = df['text']\n",
    "df.head()"
   ]
  },
  {
   "cell_type": "markdown",
   "metadata": {},
   "source": [
    "* 소문자로 변환    "
   ]
  },
  {
   "cell_type": "code",
   "execution_count": 19,
   "metadata": {},
   "outputs": [],
   "source": [
    "# 파이썬은 대소문자를 구분하기 때문에 데이터 필터링을 위해 대문자를 모두 소문자로 변경\n",
    "df['text'] = df['text'].str.lower()"
   ]
  },
  {
   "cell_type": "code",
   "execution_count": 20,
   "metadata": {},
   "outputs": [],
   "source": [
    "# 같은 의미의 단어를 하나로 통일(예, python -> 파이썬)\n",
    "df[\"text\"] = df[\"text\"].str.replace(\n",
    "    \"python\", \"파이썬\").str.replace(\n",
    "    \"pandas\", \"판다스\").str.replace(\n",
    "    \"javascript\", \"자바스크립트\").str.replace(\n",
    "    \"java\", \"자바\").str.replace(\n",
    "    \"react\", \"리액트\")"
   ]
  },
  {
   "cell_type": "markdown",
   "metadata": {},
   "source": [
    "* 텍스트로 관심 강의 분리"
   ]
  },
  {
   "cell_type": "code",
   "execution_count": 26,
   "metadata": {},
   "outputs": [
    {
     "data": {
      "text/plain": [
       "0                                          스프링 , 리액트\n",
       "1                                          스프링 웹 mvc\n",
       "2                                            따배씨 c++\n",
       "4                40대 프로그래밍 시작!  우리를 위한 프로그래밍  파이썬 중급\n",
       "5                     2020년 목표  돌머리 비전공자가 멋진 전공자 되기!\n",
       "6                   2020 년목표 비전공자(경영)가 전공자(it) 되기!!!\n",
       "7                       2020년 목표  리액트 공부하기, 스프링 공부하기\n",
       "8                              리액트로 nodebird sns 만들기\n",
       "9                                                리액트\n",
       "10      open cv ,  dl(tensorflow, keras, etc. ), nlp\n",
       "Name: course, dtype: object"
      ]
     },
     "execution_count": 26,
     "metadata": {},
     "output_type": "execute_result"
    }
   ],
   "source": [
    "df['course'] = df['text'].apply(lambda x: x.split(\"관심강의\")[-1])\n",
    "df['course'] = df['course'].apply(lambda x: x.split(\"관심 강의\")[-1])\n",
    "df['course'] = df['course'].apply(lambda x: x.split(\"관심 강좌\")[-1])\n",
    "df['course'] = df['course'].apply(lambda x: x.split(\"관심있는 강의\")[-1])\n",
    "df['course'] = df['course'].apply(lambda x: x.split(\"관심 있는 강의\")[-1])\n",
    "df['course'] = df['course'].str.replace(':', '')\n",
    "df['course'].head(10)"
   ]
  },
  {
   "cell_type": "code",
   "execution_count": 25,
   "metadata": {},
   "outputs": [
    {
     "data": {
      "text/plain": [
       "512                           더 자바, 애플리케이션을 테스트하는 다양한 방법\n",
       "513    자바에 대해 조금 더 자세히 공부해보고 싶네요.\\n더 자바, 코드를 조작하는 다양한...\n",
       "514                          2020년에는 네이티브 앱 개발자가 되고 싶어요!\n",
       "515                           2020년에는 vue를 스터디해서 적용해보자!!\n",
       "516                              화이팅 하는 한 해\\n# 데이터 분석 관련\n",
       "Name: course, dtype: object"
      ]
     },
     "execution_count": 25,
     "metadata": {},
     "output_type": "execute_result"
    }
   ],
   "source": [
    "df['course'].tail()"
   ]
  },
  {
   "cell_type": "markdown",
   "metadata": {},
   "source": [
    "* 띄어쓰기를 제거한 텍스트에서 키워드 추출"
   ]
  },
  {
   "cell_type": "code",
   "execution_count": 27,
   "metadata": {},
   "outputs": [],
   "source": [
    "search_keyword = ['머신러닝','딥러닝','파이썬','판다스','공공데이터',\n",
    "                 'django','크롤링','시각화','데이터분석',\n",
    "                 '웹개발','엑셀','c','자바','자바스크립트',\n",
    "                 'node','vue','리엑트']\n",
    "for keyword in search_keyword:\n",
    "    df[keyword] = df['course'].str.contains(keyword)"
   ]
  },
  {
   "cell_type": "code",
   "execution_count": 28,
   "metadata": {},
   "outputs": [
    {
     "data": {
      "text/html": [
       "<div>\n",
       "<style scoped>\n",
       "    .dataframe tbody tr th:only-of-type {\n",
       "        vertical-align: middle;\n",
       "    }\n",
       "\n",
       "    .dataframe tbody tr th {\n",
       "        vertical-align: top;\n",
       "    }\n",
       "\n",
       "    .dataframe thead th {\n",
       "        text-align: right;\n",
       "    }\n",
       "</style>\n",
       "<table border=\"1\" class=\"dataframe\">\n",
       "  <thead>\n",
       "    <tr style=\"text-align: right;\">\n",
       "      <th></th>\n",
       "      <th>text</th>\n",
       "      <th>origin_text</th>\n",
       "      <th>course</th>\n",
       "      <th>머신러닝</th>\n",
       "      <th>딥러닝</th>\n",
       "      <th>파이썬</th>\n",
       "      <th>판다스</th>\n",
       "      <th>공공데이터</th>\n",
       "      <th>django</th>\n",
       "      <th>크롤링</th>\n",
       "      <th>시각화</th>\n",
       "      <th>데이터분석</th>\n",
       "      <th>웹개발</th>\n",
       "      <th>엑셀</th>\n",
       "      <th>c</th>\n",
       "      <th>자바</th>\n",
       "      <th>자바스크립트</th>\n",
       "      <th>node</th>\n",
       "      <th>vue</th>\n",
       "      <th>리엑트</th>\n",
       "    </tr>\n",
       "  </thead>\n",
       "  <tbody>\n",
       "    <tr>\n",
       "      <th>4</th>\n",
       "      <td>40대 프로그래밍 시작! : 우리를 위한 프로그래밍 : 파이썬 중급</td>\n",
       "      <td>40대 프로그래밍 시작! : 우리를 위한 프로그래밍 : 파이썬 중급</td>\n",
       "      <td>40대 프로그래밍 시작!  우리를 위한 프로그래밍  파이썬 중급</td>\n",
       "      <td>False</td>\n",
       "      <td>False</td>\n",
       "      <td>True</td>\n",
       "      <td>False</td>\n",
       "      <td>False</td>\n",
       "      <td>False</td>\n",
       "      <td>False</td>\n",
       "      <td>False</td>\n",
       "      <td>False</td>\n",
       "      <td>False</td>\n",
       "      <td>False</td>\n",
       "      <td>False</td>\n",
       "      <td>False</td>\n",
       "      <td>False</td>\n",
       "      <td>False</td>\n",
       "      <td>False</td>\n",
       "      <td>False</td>\n",
       "    </tr>\n",
       "    <tr>\n",
       "      <th>19</th>\n",
       "      <td>파이썬 데이터시각화 분석 실전 프로젝트 수강하고 싶어요</td>\n",
       "      <td>파이썬 데이터시각화 분석 실전 프로젝트 수강하고 싶어요</td>\n",
       "      <td>파이썬 데이터시각화 분석 실전 프로젝트 수강하고 싶어요</td>\n",
       "      <td>False</td>\n",
       "      <td>False</td>\n",
       "      <td>True</td>\n",
       "      <td>False</td>\n",
       "      <td>False</td>\n",
       "      <td>False</td>\n",
       "      <td>False</td>\n",
       "      <td>True</td>\n",
       "      <td>False</td>\n",
       "      <td>False</td>\n",
       "      <td>False</td>\n",
       "      <td>False</td>\n",
       "      <td>False</td>\n",
       "      <td>False</td>\n",
       "      <td>False</td>\n",
       "      <td>False</td>\n",
       "      <td>False</td>\n",
       "    </tr>\n",
       "    <tr>\n",
       "      <th>22</th>\n",
       "      <td>머신러닝 제대로 배워보고 싶습니다.\\n#관심강의 : 파이썬 머신러닝 완벽가이드</td>\n",
       "      <td>머신러닝 제대로 배워보고 싶습니다.\\n#관심강의 : 파이썬 머신러닝 완벽가이드</td>\n",
       "      <td>파이썬 머신러닝 완벽가이드</td>\n",
       "      <td>True</td>\n",
       "      <td>False</td>\n",
       "      <td>True</td>\n",
       "      <td>False</td>\n",
       "      <td>False</td>\n",
       "      <td>False</td>\n",
       "      <td>False</td>\n",
       "      <td>False</td>\n",
       "      <td>False</td>\n",
       "      <td>False</td>\n",
       "      <td>False</td>\n",
       "      <td>False</td>\n",
       "      <td>False</td>\n",
       "      <td>False</td>\n",
       "      <td>False</td>\n",
       "      <td>False</td>\n",
       "      <td>False</td>\n",
       "    </tr>\n",
       "    <tr>\n",
       "      <th>26</th>\n",
       "      <td>#관심강의: 프로그래밍 시작하기 : 파이썬 입문, 공공데이터로 파이썬 데이터 분석 ...</td>\n",
       "      <td>#관심강의: 프로그래밍 시작하기 : 파이썬 입문, 공공데이터로 파이썬 데이터 분석 ...</td>\n",
       "      <td>프로그래밍 시작하기  파이썬 입문, 공공데이터로 파이썬 데이터 분석 시작하기\\n파...</td>\n",
       "      <td>False</td>\n",
       "      <td>False</td>\n",
       "      <td>True</td>\n",
       "      <td>False</td>\n",
       "      <td>True</td>\n",
       "      <td>False</td>\n",
       "      <td>False</td>\n",
       "      <td>False</td>\n",
       "      <td>False</td>\n",
       "      <td>False</td>\n",
       "      <td>False</td>\n",
       "      <td>False</td>\n",
       "      <td>False</td>\n",
       "      <td>False</td>\n",
       "      <td>False</td>\n",
       "      <td>False</td>\n",
       "      <td>False</td>\n",
       "    </tr>\n",
       "    <tr>\n",
       "      <th>30</th>\n",
       "      <td>자바기반 웹 개발자입니다. 데이터 분석에 많이 쓰이는 파이썬이 궁금합니다.\\n#관심...</td>\n",
       "      <td>자바기반 웹 개발자입니다. 데이터 분석에 많이 쓰이는 Python이 궁금합니다.\\n...</td>\n",
       "      <td>프로그래밍 시작하기  파이썬 입문, 공공데이터로 파이썬 데이터 분석 시작하기</td>\n",
       "      <td>False</td>\n",
       "      <td>False</td>\n",
       "      <td>True</td>\n",
       "      <td>False</td>\n",
       "      <td>True</td>\n",
       "      <td>False</td>\n",
       "      <td>False</td>\n",
       "      <td>False</td>\n",
       "      <td>False</td>\n",
       "      <td>False</td>\n",
       "      <td>False</td>\n",
       "      <td>False</td>\n",
       "      <td>False</td>\n",
       "      <td>False</td>\n",
       "      <td>False</td>\n",
       "      <td>False</td>\n",
       "      <td>False</td>\n",
       "    </tr>\n",
       "  </tbody>\n",
       "</table>\n",
       "</div>"
      ],
      "text/plain": [
       "                                                 text  \\\n",
       "4               40대 프로그래밍 시작! : 우리를 위한 프로그래밍 : 파이썬 중급   \n",
       "19                     파이썬 데이터시각화 분석 실전 프로젝트 수강하고 싶어요   \n",
       "22        머신러닝 제대로 배워보고 싶습니다.\\n#관심강의 : 파이썬 머신러닝 완벽가이드   \n",
       "26  #관심강의: 프로그래밍 시작하기 : 파이썬 입문, 공공데이터로 파이썬 데이터 분석 ...   \n",
       "30  자바기반 웹 개발자입니다. 데이터 분석에 많이 쓰이는 파이썬이 궁금합니다.\\n#관심...   \n",
       "\n",
       "                                          origin_text  \\\n",
       "4               40대 프로그래밍 시작! : 우리를 위한 프로그래밍 : 파이썬 중급   \n",
       "19                     파이썬 데이터시각화 분석 실전 프로젝트 수강하고 싶어요   \n",
       "22        머신러닝 제대로 배워보고 싶습니다.\\n#관심강의 : 파이썬 머신러닝 완벽가이드   \n",
       "26  #관심강의: 프로그래밍 시작하기 : 파이썬 입문, 공공데이터로 파이썬 데이터 분석 ...   \n",
       "30  자바기반 웹 개발자입니다. 데이터 분석에 많이 쓰이는 Python이 궁금합니다.\\n...   \n",
       "\n",
       "                                               course   머신러닝    딥러닝   파이썬  \\\n",
       "4                 40대 프로그래밍 시작!  우리를 위한 프로그래밍  파이썬 중급  False  False  True   \n",
       "19                     파이썬 데이터시각화 분석 실전 프로젝트 수강하고 싶어요  False  False  True   \n",
       "22                                     파이썬 머신러닝 완벽가이드   True  False  True   \n",
       "26   프로그래밍 시작하기  파이썬 입문, 공공데이터로 파이썬 데이터 분석 시작하기\\n파...  False  False  True   \n",
       "30         프로그래밍 시작하기  파이썬 입문, 공공데이터로 파이썬 데이터 분석 시작하기  False  False  True   \n",
       "\n",
       "      판다스  공공데이터  django    크롤링    시각화  데이터분석    웹개발     엑셀      c     자바  \\\n",
       "4   False  False   False  False  False  False  False  False  False  False   \n",
       "19  False  False   False  False   True  False  False  False  False  False   \n",
       "22  False  False   False  False  False  False  False  False  False  False   \n",
       "26  False   True   False  False  False  False  False  False  False  False   \n",
       "30  False   True   False  False  False  False  False  False  False  False   \n",
       "\n",
       "    자바스크립트   node    vue    리엑트  \n",
       "4    False  False  False  False  \n",
       "19   False  False  False  False  \n",
       "22   False  False  False  False  \n",
       "26   False  False  False  False  \n",
       "30   False  False  False  False  "
      ]
     },
     "execution_count": 28,
     "metadata": {},
     "output_type": "execute_result"
    }
   ],
   "source": [
    "df_python = df[df['text'].str.contains('파이썬|공공데이터|판다스')].copy()\n",
    "df_python.head()"
   ]
  },
  {
   "cell_type": "code",
   "execution_count": 29,
   "metadata": {},
   "outputs": [
    {
     "data": {
      "text/plain": [
       "c         96\n",
       "파이썬       89\n",
       "자바        77\n",
       "vue       34\n",
       "자바스크립트    29\n",
       "머신러닝      22\n",
       "node      22\n",
       "크롤링       16\n",
       "딥러닝        8\n",
       "시각화        7\n",
       "공공데이터      6\n",
       "웹개발        5\n",
       "django     3\n",
       "리엑트        1\n",
       "엑셀         1\n",
       "데이터분석      1\n",
       "판다스        0\n",
       "dtype: int64"
      ]
     },
     "execution_count": 29,
     "metadata": {},
     "output_type": "execute_result"
    }
   ],
   "source": [
    "df[search_keyword].sum().sort_values(ascending=False)"
   ]
  },
  {
   "cell_type": "code",
   "execution_count": 30,
   "metadata": {},
   "outputs": [
    {
     "name": "stdout",
     "output_type": "stream",
     "text": [
      "--------------------\n",
      "#관심강의: 프로그래밍 시작하기 : 파이썬 입문, 공공데이터로 파이썬 데이터 분석 시작하기\n",
      "파이썬의 고수가 되고싶어요\n",
      "--------------------\n",
      "자바기반 웹 개발자입니다. 데이터 분석에 많이 쓰이는 파이썬이 궁금합니다.\n",
      "#관심강의: 프로그래밍 시작하기 : 파이썬 입문, 공공데이터로 파이썬 데이터 분석 시작하기\n",
      "--------------------\n",
      "올해 안에 원하는 공부 다 끝내보려고요. 내년이면 수능이라..\n",
      "\n",
      "#관심강의: 공공데이터로 파이썬 데이터 분석 시작하기\n",
      "--------------------\n",
      "it개발자입니다. 개발을 오래 안하고 관리만 했더니 다시 개발이 너무 하고싶습니다. 올해는 인프런을 통해서 개발쪽 스킬셋을 업그레이드 하고 싶습니다!\n",
      "#관심강의: 공공데이터로 파이썬 데이터 분석 시작하기\n",
      "--------------------\n",
      "파이썬 데이터분석 마스터\n",
      "#관심강의:공공데이터로 파이썬 데이터 분석 시작하기\n",
      "--------------------\n",
      "올해 졸업하는 컴퓨터공학과 학생입니다!\n",
      "백엔드 혹은 데이터 엔지니어 쪽으로 취업하고 싶습니다!\n",
      "#관심강의: 공공데이터로 파이썬 데이터 분석 시작하기\n"
     ]
    }
   ],
   "source": [
    "text = df.loc[(df['공공데이터']==True), 'text']\n",
    "for t in text:\n",
    "    print('-'*20)\n",
    "    print(t)"
   ]
  },
  {
   "cell_type": "markdown",
   "metadata": {},
   "source": [
    "* 빈도수 계산을 위한 텍스트 데이터 벡터화    \n",
    "  - BOW 단어 가방에 단어를 토큰화해서 담아줌"
   ]
  },
  {
   "cell_type": "code",
   "execution_count": 35,
   "metadata": {},
   "outputs": [
    {
     "data": {
      "text/plain": [
       "['파이썬', '데이터', '분석']"
      ]
     },
     "execution_count": 35,
     "metadata": {},
     "output_type": "execute_result"
    }
   ],
   "source": [
    "# 토큰화\n",
    "\"파이썬 데이터 분석\".split()"
   ]
  },
  {
   "cell_type": "code",
   "execution_count": 32,
   "metadata": {},
   "outputs": [
    {
     "data": {
      "text/plain": [
       "CountVectorizer(analyzer='word', binary=False, decode_error='strict',\n",
       "                dtype=<class 'numpy.int64'>, encoding='utf-8', input='content',\n",
       "                lowercase=True, max_df=1.0, max_features=2000, min_df=2,\n",
       "                ngram_range=(3, 6), preprocessor=None, stop_words=None,\n",
       "                strip_accents=None, token_pattern='(?u)\\\\b\\\\w\\\\w+\\\\b',\n",
       "                tokenizer=None, vocabulary=None)"
      ]
     },
     "execution_count": 32,
     "metadata": {},
     "output_type": "execute_result"
    }
   ],
   "source": [
    "from sklearn.feature_extraction.text import CountVectorizer\n",
    "\n",
    "vectorizer = CountVectorizer(analyzer = 'word', # 캐릭터 단위로 벡터화 가능\n",
    "                            tokenizer = None, # 토크나이저를 따로 지정\n",
    "                            preprocessor = None, # 전처리 도구\n",
    "                            stop_words = None, # 불용어\n",
    "                            min_df = 2, # 토큰이 나타날 최소 문서 개수로 오타나 빈도수 작은 특수용어 제거\n",
    "                            ngram_range = (3,6), # BOW단위 갯수의 범위 지정\n",
    "                            max_features = 2000 # 만들 피쳐의 수, 단어의 수\n",
    "                            )\n",
    "vectorizer"
   ]
  },
  {
   "cell_type": "code",
   "execution_count": 33,
   "metadata": {},
   "outputs": [
    {
     "data": {
      "text/plain": [
       "(512, 577)"
      ]
     },
     "execution_count": 33,
     "metadata": {},
     "output_type": "execute_result"
    }
   ],
   "source": [
    "feature_vector = vectorizer.fit_transform(df['course'])\n",
    "feature_vector.shape"
   ]
  },
  {
   "cell_type": "code",
   "execution_count": 34,
   "metadata": {},
   "outputs": [
    {
     "name": "stdout",
     "output_type": "stream",
     "text": [
      "577\n"
     ]
    },
    {
     "data": {
      "text/plain": [
       "['2020년 공부 목표',\n",
       " '2020년 목표 리액트',\n",
       " '2020년 목표 리액트 공부하기',\n",
       " '3dsmax 초급부터 전문가까지',\n",
       " '3dsmax 초급부터 전문가까지 한방에',\n",
       " '3dsmax 초급부터 전문가까지 한방에 끝내는',\n",
       " 'age of vue',\n",
       " 'age of vue js',\n",
       " 'age of vue js vue',\n",
       " 'age of vue js vue js']"
      ]
     },
     "execution_count": 34,
     "metadata": {},
     "output_type": "execute_result"
    }
   ],
   "source": [
    "vocab = vectorizer.get_feature_names()\n",
    "print(len(vocab))\n",
    "vocab[:10]"
   ]
  },
  {
   "cell_type": "code",
   "execution_count": 36,
   "metadata": {},
   "outputs": [
    {
     "data": {
      "text/html": [
       "<div>\n",
       "<style scoped>\n",
       "    .dataframe tbody tr th:only-of-type {\n",
       "        vertical-align: middle;\n",
       "    }\n",
       "\n",
       "    .dataframe tbody tr th {\n",
       "        vertical-align: top;\n",
       "    }\n",
       "\n",
       "    .dataframe thead th {\n",
       "        text-align: right;\n",
       "    }\n",
       "</style>\n",
       "<table border=\"1\" class=\"dataframe\">\n",
       "  <thead>\n",
       "    <tr style=\"text-align: right;\">\n",
       "      <th></th>\n",
       "      <th>2020년 공부 목표</th>\n",
       "      <th>2020년 목표 리액트</th>\n",
       "      <th>2020년 목표 리액트 공부하기</th>\n",
       "      <th>3dsmax 초급부터 전문가까지</th>\n",
       "      <th>3dsmax 초급부터 전문가까지 한방에</th>\n",
       "      <th>3dsmax 초급부터 전문가까지 한방에 끝내는</th>\n",
       "      <th>age of vue</th>\n",
       "      <th>age of vue js</th>\n",
       "      <th>age of vue js vue</th>\n",
       "      <th>age of vue js vue js</th>\n",
       "      <th>...</th>\n",
       "      <th>활용1 애플리케이션 개발</th>\n",
       "      <th>활용1 애플리케이션 개발 실전</th>\n",
       "      <th>활용1 애플리케이션 개발 실전 스프링</th>\n",
       "      <th>활용1 애플리케이션 개발 실전 스프링 부트와</th>\n",
       "      <th>활용2 api 개발과</th>\n",
       "      <th>활용2 api 개발과 성능</th>\n",
       "      <th>활용2 api 개발과 성능 최적화</th>\n",
       "      <th>활용한 다양한 자동화</th>\n",
       "      <th>활용한 다양한 자동화 어플리케이션</th>\n",
       "      <th>활용한 다양한 자동화 어플리케이션 제작하기</th>\n",
       "    </tr>\n",
       "  </thead>\n",
       "  <tbody>\n",
       "    <tr>\n",
       "      <th>0</th>\n",
       "      <td>0</td>\n",
       "      <td>0</td>\n",
       "      <td>0</td>\n",
       "      <td>0</td>\n",
       "      <td>0</td>\n",
       "      <td>0</td>\n",
       "      <td>0</td>\n",
       "      <td>0</td>\n",
       "      <td>0</td>\n",
       "      <td>0</td>\n",
       "      <td>...</td>\n",
       "      <td>0</td>\n",
       "      <td>0</td>\n",
       "      <td>0</td>\n",
       "      <td>0</td>\n",
       "      <td>0</td>\n",
       "      <td>0</td>\n",
       "      <td>0</td>\n",
       "      <td>0</td>\n",
       "      <td>0</td>\n",
       "      <td>0</td>\n",
       "    </tr>\n",
       "    <tr>\n",
       "      <th>1</th>\n",
       "      <td>0</td>\n",
       "      <td>0</td>\n",
       "      <td>0</td>\n",
       "      <td>0</td>\n",
       "      <td>0</td>\n",
       "      <td>0</td>\n",
       "      <td>0</td>\n",
       "      <td>0</td>\n",
       "      <td>0</td>\n",
       "      <td>0</td>\n",
       "      <td>...</td>\n",
       "      <td>0</td>\n",
       "      <td>0</td>\n",
       "      <td>0</td>\n",
       "      <td>0</td>\n",
       "      <td>0</td>\n",
       "      <td>0</td>\n",
       "      <td>0</td>\n",
       "      <td>0</td>\n",
       "      <td>0</td>\n",
       "      <td>0</td>\n",
       "    </tr>\n",
       "    <tr>\n",
       "      <th>2</th>\n",
       "      <td>0</td>\n",
       "      <td>0</td>\n",
       "      <td>0</td>\n",
       "      <td>0</td>\n",
       "      <td>0</td>\n",
       "      <td>0</td>\n",
       "      <td>0</td>\n",
       "      <td>0</td>\n",
       "      <td>0</td>\n",
       "      <td>0</td>\n",
       "      <td>...</td>\n",
       "      <td>0</td>\n",
       "      <td>0</td>\n",
       "      <td>0</td>\n",
       "      <td>0</td>\n",
       "      <td>0</td>\n",
       "      <td>0</td>\n",
       "      <td>0</td>\n",
       "      <td>0</td>\n",
       "      <td>0</td>\n",
       "      <td>0</td>\n",
       "    </tr>\n",
       "    <tr>\n",
       "      <th>3</th>\n",
       "      <td>0</td>\n",
       "      <td>0</td>\n",
       "      <td>0</td>\n",
       "      <td>0</td>\n",
       "      <td>0</td>\n",
       "      <td>0</td>\n",
       "      <td>0</td>\n",
       "      <td>0</td>\n",
       "      <td>0</td>\n",
       "      <td>0</td>\n",
       "      <td>...</td>\n",
       "      <td>0</td>\n",
       "      <td>0</td>\n",
       "      <td>0</td>\n",
       "      <td>0</td>\n",
       "      <td>0</td>\n",
       "      <td>0</td>\n",
       "      <td>0</td>\n",
       "      <td>0</td>\n",
       "      <td>0</td>\n",
       "      <td>0</td>\n",
       "    </tr>\n",
       "    <tr>\n",
       "      <th>4</th>\n",
       "      <td>0</td>\n",
       "      <td>0</td>\n",
       "      <td>0</td>\n",
       "      <td>0</td>\n",
       "      <td>0</td>\n",
       "      <td>0</td>\n",
       "      <td>0</td>\n",
       "      <td>0</td>\n",
       "      <td>0</td>\n",
       "      <td>0</td>\n",
       "      <td>...</td>\n",
       "      <td>0</td>\n",
       "      <td>0</td>\n",
       "      <td>0</td>\n",
       "      <td>0</td>\n",
       "      <td>0</td>\n",
       "      <td>0</td>\n",
       "      <td>0</td>\n",
       "      <td>0</td>\n",
       "      <td>0</td>\n",
       "      <td>0</td>\n",
       "    </tr>\n",
       "  </tbody>\n",
       "</table>\n",
       "<p>5 rows × 577 columns</p>\n",
       "</div>"
      ],
      "text/plain": [
       "   2020년 공부 목표  2020년 목표 리액트  2020년 목표 리액트 공부하기  3dsmax 초급부터 전문가까지  \\\n",
       "0            0             0                  0                  0   \n",
       "1            0             0                  0                  0   \n",
       "2            0             0                  0                  0   \n",
       "3            0             0                  0                  0   \n",
       "4            0             0                  0                  0   \n",
       "\n",
       "   3dsmax 초급부터 전문가까지 한방에  3dsmax 초급부터 전문가까지 한방에 끝내는  age of vue  \\\n",
       "0                      0                          0           0   \n",
       "1                      0                          0           0   \n",
       "2                      0                          0           0   \n",
       "3                      0                          0           0   \n",
       "4                      0                          0           0   \n",
       "\n",
       "   age of vue js  age of vue js vue  age of vue js vue js  ...  활용1 애플리케이션 개발  \\\n",
       "0              0                  0                     0  ...              0   \n",
       "1              0                  0                     0  ...              0   \n",
       "2              0                  0                     0  ...              0   \n",
       "3              0                  0                     0  ...              0   \n",
       "4              0                  0                     0  ...              0   \n",
       "\n",
       "   활용1 애플리케이션 개발 실전  활용1 애플리케이션 개발 실전 스프링  활용1 애플리케이션 개발 실전 스프링 부트와  \\\n",
       "0                 0                     0                         0   \n",
       "1                 0                     0                         0   \n",
       "2                 0                     0                         0   \n",
       "3                 0                     0                         0   \n",
       "4                 0                     0                         0   \n",
       "\n",
       "   활용2 api 개발과  활용2 api 개발과 성능  활용2 api 개발과 성능 최적화  활용한 다양한 자동화  \\\n",
       "0            0               0                   0            0   \n",
       "1            0               0                   0            0   \n",
       "2            0               0                   0            0   \n",
       "3            0               0                   0            0   \n",
       "4            0               0                   0            0   \n",
       "\n",
       "   활용한 다양한 자동화 어플리케이션  활용한 다양한 자동화 어플리케이션 제작하기  \n",
       "0                   0                        0  \n",
       "1                   0                        0  \n",
       "2                   0                        0  \n",
       "3                   0                        0  \n",
       "4                   0                        0  \n",
       "\n",
       "[5 rows x 577 columns]"
      ]
     },
     "execution_count": 36,
     "metadata": {},
     "output_type": "execute_result"
    }
   ],
   "source": [
    "# 각 리뷰마다 등장하는 단어에 빈도수가 표현\n",
    "pd.DataFrame(feature_vector[:10].toarray(), columns=vocab).head()"
   ]
  },
  {
   "cell_type": "code",
   "execution_count": 37,
   "metadata": {},
   "outputs": [
    {
     "data": {
      "text/html": [
       "<div>\n",
       "<style scoped>\n",
       "    .dataframe tbody tr th:only-of-type {\n",
       "        vertical-align: middle;\n",
       "    }\n",
       "\n",
       "    .dataframe tbody tr th {\n",
       "        vertical-align: top;\n",
       "    }\n",
       "\n",
       "    .dataframe thead th {\n",
       "        text-align: right;\n",
       "    }\n",
       "</style>\n",
       "<table border=\"1\" class=\"dataframe\">\n",
       "  <thead>\n",
       "    <tr style=\"text-align: right;\">\n",
       "      <th></th>\n",
       "      <th>2020년 공부 목표</th>\n",
       "      <th>2020년 목표 리액트</th>\n",
       "      <th>2020년 목표 리액트 공부하기</th>\n",
       "      <th>3dsmax 초급부터 전문가까지</th>\n",
       "      <th>3dsmax 초급부터 전문가까지 한방에</th>\n",
       "      <th>3dsmax 초급부터 전문가까지 한방에 끝내는</th>\n",
       "      <th>age of vue</th>\n",
       "      <th>age of vue js</th>\n",
       "      <th>age of vue js vue</th>\n",
       "      <th>age of vue js vue js</th>\n",
       "      <th>...</th>\n",
       "      <th>활용1 애플리케이션 개발</th>\n",
       "      <th>활용1 애플리케이션 개발 실전</th>\n",
       "      <th>활용1 애플리케이션 개발 실전 스프링</th>\n",
       "      <th>활용1 애플리케이션 개발 실전 스프링 부트와</th>\n",
       "      <th>활용2 api 개발과</th>\n",
       "      <th>활용2 api 개발과 성능</th>\n",
       "      <th>활용2 api 개발과 성능 최적화</th>\n",
       "      <th>활용한 다양한 자동화</th>\n",
       "      <th>활용한 다양한 자동화 어플리케이션</th>\n",
       "      <th>활용한 다양한 자동화 어플리케이션 제작하기</th>\n",
       "    </tr>\n",
       "  </thead>\n",
       "  <tbody>\n",
       "    <tr>\n",
       "      <th>0</th>\n",
       "      <td>3</td>\n",
       "      <td>2</td>\n",
       "      <td>2</td>\n",
       "      <td>2</td>\n",
       "      <td>2</td>\n",
       "      <td>2</td>\n",
       "      <td>5</td>\n",
       "      <td>5</td>\n",
       "      <td>2</td>\n",
       "      <td>2</td>\n",
       "      <td>...</td>\n",
       "      <td>6</td>\n",
       "      <td>3</td>\n",
       "      <td>2</td>\n",
       "      <td>2</td>\n",
       "      <td>7</td>\n",
       "      <td>7</td>\n",
       "      <td>7</td>\n",
       "      <td>6</td>\n",
       "      <td>6</td>\n",
       "      <td>6</td>\n",
       "    </tr>\n",
       "  </tbody>\n",
       "</table>\n",
       "<p>1 rows × 577 columns</p>\n",
       "</div>"
      ],
      "text/plain": [
       "   2020년 공부 목표  2020년 목표 리액트  2020년 목표 리액트 공부하기  3dsmax 초급부터 전문가까지  \\\n",
       "0            3             2                  2                  2   \n",
       "\n",
       "   3dsmax 초급부터 전문가까지 한방에  3dsmax 초급부터 전문가까지 한방에 끝내는  age of vue  \\\n",
       "0                      2                          2           5   \n",
       "\n",
       "   age of vue js  age of vue js vue  age of vue js vue js  ...  활용1 애플리케이션 개발  \\\n",
       "0              5                  2                     2  ...              6   \n",
       "\n",
       "   활용1 애플리케이션 개발 실전  활용1 애플리케이션 개발 실전 스프링  활용1 애플리케이션 개발 실전 스프링 부트와  \\\n",
       "0                 3                     2                         2   \n",
       "\n",
       "   활용2 api 개발과  활용2 api 개발과 성능  활용2 api 개발과 성능 최적화  활용한 다양한 자동화  \\\n",
       "0            7               7                   7            6   \n",
       "\n",
       "   활용한 다양한 자동화 어플리케이션  활용한 다양한 자동화 어플리케이션 제작하기  \n",
       "0                   6                        6  \n",
       "\n",
       "[1 rows x 577 columns]"
      ]
     },
     "execution_count": 37,
     "metadata": {},
     "output_type": "execute_result"
    }
   ],
   "source": [
    "# 위에서 구한 단어벡터를 더하면 단어가 전체에서 등장하는 횟수를 알 수 있다.\n",
    "# 벡터화된 피처를 확인해 봄\n",
    "# Bag of words에 몇 개의 단어가 들어있는지 확인\n",
    "dist = np.sum(feature_vector, axis=0)\n",
    "\n",
    "df_freq = pd.DataFrame(dist, columns=vocab)\n",
    "df_freq"
   ]
  },
  {
   "cell_type": "code",
   "execution_count": 38,
   "metadata": {},
   "outputs": [
    {
     "data": {
      "text/html": [
       "<div>\n",
       "<style scoped>\n",
       "    .dataframe tbody tr th:only-of-type {\n",
       "        vertical-align: middle;\n",
       "    }\n",
       "\n",
       "    .dataframe tbody tr th {\n",
       "        vertical-align: top;\n",
       "    }\n",
       "\n",
       "    .dataframe thead th {\n",
       "        text-align: right;\n",
       "    }\n",
       "</style>\n",
       "<table border=\"1\" class=\"dataframe\">\n",
       "  <thead>\n",
       "    <tr style=\"text-align: right;\">\n",
       "      <th></th>\n",
       "      <th>0</th>\n",
       "    </tr>\n",
       "  </thead>\n",
       "  <tbody>\n",
       "    <tr>\n",
       "      <th>홍정모의 따라하며 배우는</th>\n",
       "      <td>28</td>\n",
       "    </tr>\n",
       "    <tr>\n",
       "      <th>nodebird sns 만들기</th>\n",
       "      <td>16</td>\n",
       "    </tr>\n",
       "    <tr>\n",
       "      <th>스프링 데이터 jpa</th>\n",
       "      <td>14</td>\n",
       "    </tr>\n",
       "    <tr>\n",
       "      <th>프로그래밍과 자바스크립트 es6</th>\n",
       "      <td>13</td>\n",
       "    </tr>\n",
       "    <tr>\n",
       "      <th>리액트로 nodebird sns</th>\n",
       "      <td>12</td>\n",
       "    </tr>\n",
       "    <tr>\n",
       "      <th>리액트로 nodebird sns 만들기</th>\n",
       "      <td>12</td>\n",
       "    </tr>\n",
       "    <tr>\n",
       "      <th>함수형 프로그래밍과 자바스크립트 es6</th>\n",
       "      <td>12</td>\n",
       "    </tr>\n",
       "    <tr>\n",
       "      <th>함수형 프로그래밍과 자바스크립트</th>\n",
       "      <td>12</td>\n",
       "    </tr>\n",
       "    <tr>\n",
       "      <th>실전 스프링 부트와 jpa</th>\n",
       "      <td>11</td>\n",
       "    </tr>\n",
       "    <tr>\n",
       "      <th>실전 스프링 부트와</th>\n",
       "      <td>11</td>\n",
       "    </tr>\n",
       "  </tbody>\n",
       "</table>\n",
       "</div>"
      ],
      "text/plain": [
       "                        0\n",
       "홍정모의 따라하며 배우는          28\n",
       "nodebird sns 만들기       16\n",
       "스프링 데이터 jpa            14\n",
       "프로그래밍과 자바스크립트 es6      13\n",
       "리액트로 nodebird sns      12\n",
       "리액트로 nodebird sns 만들기  12\n",
       "함수형 프로그래밍과 자바스크립트 es6  12\n",
       "함수형 프로그래밍과 자바스크립트      12\n",
       "실전 스프링 부트와 jpa         11\n",
       "실전 스프링 부트와             11"
      ]
     },
     "execution_count": 38,
     "metadata": {},
     "output_type": "execute_result"
    }
   ],
   "source": [
    "# 행과 열을 전치시키고 빈도수로 정렬\n",
    "df_freq.T.sort_values(by=0, ascending=False).head(10)"
   ]
  },
  {
   "cell_type": "code",
   "execution_count": null,
   "metadata": {},
   "outputs": [],
   "source": []
  }
 ],
 "metadata": {
  "kernelspec": {
   "display_name": "Python 3",
   "language": "python",
   "name": "python3"
  },
  "language_info": {
   "codemirror_mode": {
    "name": "ipython",
    "version": 3
   },
   "file_extension": ".py",
   "mimetype": "text/x-python",
   "name": "python",
   "nbconvert_exporter": "python",
   "pygments_lexer": "ipython3",
   "version": "3.7.6"
  }
 },
 "nbformat": 4,
 "nbformat_minor": 4
}
