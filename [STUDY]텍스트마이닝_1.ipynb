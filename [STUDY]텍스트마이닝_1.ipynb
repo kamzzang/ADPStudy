{
 "cells": [
  {
   "cell_type": "markdown",
   "metadata": {},
   "source": [
    "# 텍스트 마이닝_1(konlpy)\n",
    "* 참고 : https://joyfuls.tistory.com/69?category=731429"
   ]
  },
  {
   "cell_type": "markdown",
   "metadata": {},
   "source": [
    "# 1. 형태소 분석(konlpy)"
   ]
  },
  {
   "cell_type": "code",
   "execution_count": 1,
   "metadata": {},
   "outputs": [],
   "source": [
    "from konlpy.tag import Kkma"
   ]
  },
  {
   "cell_type": "markdown",
   "metadata": {},
   "source": [
    "## Kkma object"
   ]
  },
  {
   "cell_type": "markdown",
   "metadata": {},
   "source": [
    "* 문장 Sentences"
   ]
  },
  {
   "cell_type": "code",
   "execution_count": 2,
   "metadata": {},
   "outputs": [
    {
     "name": "stdout",
     "output_type": "stream",
     "text": [
      "2\n"
     ]
    },
    {
     "data": {
      "text/plain": [
       "['형태소 분석을 시작합니다.', '나는 홍길동이고 age는 28세 입니다.']"
      ]
     },
     "execution_count": 2,
     "metadata": {},
     "output_type": "execute_result"
    }
   ],
   "source": [
    "kkma = Kkma()\n",
    "para = \"형태소 분석을 시작합니다. 나는 홍길동이고 age는 28세 입니다.\"\n",
    "ex_sent = kkma.sentences(para)\n",
    "print(len(ex_sent))\n",
    "ex_sent"
   ]
  },
  {
   "cell_type": "markdown",
   "metadata": {},
   "source": [
    "* 단어 nouns"
   ]
  },
  {
   "cell_type": "code",
   "execution_count": 3,
   "metadata": {},
   "outputs": [
    {
     "name": "stdout",
     "output_type": "stream",
     "text": [
      "7\n"
     ]
    },
    {
     "data": {
      "text/plain": [
       "['형태소', '분석', '나', '홍길동', '28', '28세', '세']"
      ]
     },
     "execution_count": 3,
     "metadata": {},
     "output_type": "execute_result"
    }
   ],
   "source": [
    "ex_nouns = kkma.nouns(para)\n",
    "print(len(ex_nouns))\n",
    "ex_nouns"
   ]
  },
  {
   "cell_type": "markdown",
   "metadata": {},
   "source": [
    "* 형태소 추출"
   ]
  },
  {
   "cell_type": "code",
   "execution_count": 4,
   "metadata": {},
   "outputs": [
    {
     "data": {
      "text/plain": [
       "[('형태소', 'NNG'),\n",
       " ('분석', 'NNG'),\n",
       " ('을', 'JKO'),\n",
       " ('시작하', 'VV'),\n",
       " ('ㅂ니다', 'EFN'),\n",
       " ('.', 'SF'),\n",
       " ('나', 'NP'),\n",
       " ('는', 'JX'),\n",
       " ('홍길동', 'NNG'),\n",
       " ('이', 'VCP'),\n",
       " ('고', 'ECE'),\n",
       " ('age', 'OL'),\n",
       " ('는', 'JX'),\n",
       " ('28', 'NR'),\n",
       " ('세', 'NNM'),\n",
       " ('이', 'VCP'),\n",
       " ('ㅂ니다', 'EFN'),\n",
       " ('.', 'SF')]"
      ]
     },
     "execution_count": 4,
     "metadata": {},
     "output_type": "execute_result"
    }
   ],
   "source": [
    "ex_pos = kkma.pos(para)\n",
    "ex_pos"
   ]
  },
  {
   "cell_type": "markdown",
   "metadata": {},
   "source": [
    "* 'NNG 일반명사, NNP 고유명사, NP 대명사'만 추출하기"
   ]
  },
  {
   "cell_type": "code",
   "execution_count": 5,
   "metadata": {},
   "outputs": [
    {
     "data": {
      "text/plain": [
       "['형태소', '분석', '나', '홍길동']"
      ]
     },
     "execution_count": 5,
     "metadata": {},
     "output_type": "execute_result"
    }
   ],
   "source": [
    "text_data=[]\n",
    "\n",
    "for (text, tclass) in ex_pos:\n",
    "    if tclass=='NNG' or tclass=='NNP' or tclass=='NP':\n",
    "        text_data.append(text)\n",
    "text_data"
   ]
  },
  {
   "cell_type": "markdown",
   "metadata": {},
   "source": [
    "# 2. 시각화(Word Cloud)\n",
    "* 1. text file 읽기    \n",
    "* 2. 명사추출    \n",
    "* 3. 전처리 : 단어 길이 제한, 숫자 제외    \n",
    "* 4. 시각화"
   ]
  },
  {
   "cell_type": "markdown",
   "metadata": {},
   "source": [
    "## text file 읽기"
   ]
  },
  {
   "cell_type": "code",
   "execution_count": 6,
   "metadata": {},
   "outputs": [
    {
     "data": {
      "text/plain": [
       "'형태소 분석을 시작합니다. 나는 데이터 분석을 좋아합니다. \\n데이터 분석 전문가 공부를 하고 있습니다. Text mining 기법은 2000대 초반에 개발된 기술이다.'"
      ]
     },
     "execution_count": 6,
     "metadata": {},
     "output_type": "execute_result"
    }
   ],
   "source": [
    "file = open('text_data.txt', mode='r', encoding='utf-8')\n",
    "doc = file.read()\n",
    "file.close()\n",
    "doc"
   ]
  },
  {
   "cell_type": "markdown",
   "metadata": {},
   "source": [
    "## doc -> sentence"
   ]
  },
  {
   "cell_type": "code",
   "execution_count": 7,
   "metadata": {},
   "outputs": [
    {
     "data": {
      "text/plain": [
       "['형태소 분석을 시작합니다.',\n",
       " '나는 데이터 분석을 좋아합니다.',\n",
       " '데이터 분석 전문가 공부를 하고 있습니다.',\n",
       " 'Text mining 기법은 2000대 초반에 개발된 기술이다.']"
      ]
     },
     "execution_count": 7,
     "metadata": {},
     "output_type": "execute_result"
    }
   ],
   "source": [
    "ex_sent = kkma.sentences(doc)\n",
    "ex_sent"
   ]
  },
  {
   "cell_type": "markdown",
   "metadata": {},
   "source": [
    "## doc -> noun"
   ]
  },
  {
   "cell_type": "code",
   "execution_count": 8,
   "metadata": {},
   "outputs": [
    {
     "data": {
      "text/plain": [
       "['형태소',\n",
       " '분석',\n",
       " '나',\n",
       " '데이터',\n",
       " '전문가',\n",
       " '공부',\n",
       " '기법',\n",
       " '2000',\n",
       " '2000대',\n",
       " '대',\n",
       " '초반',\n",
       " '개발',\n",
       " '기술']"
      ]
     },
     "execution_count": 8,
     "metadata": {},
     "output_type": "execute_result"
    }
   ],
   "source": [
    "ex_noun = kkma.nouns(doc)\n",
    "ex_noun"
   ]
  },
  {
   "cell_type": "markdown",
   "metadata": {},
   "source": [
    "## sentence -> noun"
   ]
  },
  {
   "cell_type": "code",
   "execution_count": 9,
   "metadata": {},
   "outputs": [],
   "source": [
    "from re import match"
   ]
  },
  {
   "cell_type": "code",
   "execution_count": 10,
   "metadata": {},
   "outputs": [
    {
     "data": {
      "text/plain": [
       "['형태소', '분석', '데이터', '분석', '데이터', '분석', '전문가', '공부', '기법', '초반', '개발', '기술']"
      ]
     },
     "execution_count": 10,
     "metadata": {},
     "output_type": "execute_result"
    }
   ],
   "source": [
    "nouns = []\n",
    "for sent in ex_sent:\n",
    "    for noun in kkma.nouns(sent):\n",
    "        # 단어 전처리 : 2음절 이상, 수사 제외\n",
    "        if len(str(noun)) >= 2 and not(match('^[0-9]', noun)):\n",
    "            nouns.append(noun)\n",
    "nouns"
   ]
  },
  {
   "cell_type": "markdown",
   "metadata": {},
   "source": [
    "## word count : dict"
   ]
  },
  {
   "cell_type": "code",
   "execution_count": 11,
   "metadata": {},
   "outputs": [
    {
     "data": {
      "text/plain": [
       "{'형태소': 1,\n",
       " '분석': 3,\n",
       " '데이터': 2,\n",
       " '전문가': 1,\n",
       " '공부': 1,\n",
       " '기법': 1,\n",
       " '초반': 1,\n",
       " '개발': 1,\n",
       " '기술': 1}"
      ]
     },
     "execution_count": 11,
     "metadata": {},
     "output_type": "execute_result"
    }
   ],
   "source": [
    "word_count = {}\n",
    "\n",
    "for noun in nouns:\n",
    "    word_count[noun] = word_count.get(noun,0) + 1\n",
    "word_count"
   ]
  },
  {
   "cell_type": "markdown",
   "metadata": {},
   "source": [
    "## top_n"
   ]
  },
  {
   "cell_type": "code",
   "execution_count": 12,
   "metadata": {},
   "outputs": [],
   "source": [
    "from collections import Counter"
   ]
  },
  {
   "cell_type": "code",
   "execution_count": 13,
   "metadata": {},
   "outputs": [
    {
     "data": {
      "text/plain": [
       "[('분석', 3), ('데이터', 2), ('형태소', 1), ('전문가', 1), ('공부', 1)]"
      ]
     },
     "execution_count": 13,
     "metadata": {},
     "output_type": "execute_result"
    }
   ],
   "source": [
    "counter = Counter(word_count)\n",
    "\n",
    "top5 = counter.most_common(5)\n",
    "top5"
   ]
  },
  {
   "cell_type": "markdown",
   "metadata": {},
   "source": [
    "## word cloud\n",
    "* 한글 단어를 시각화하기 위해서는 한글 글씨체를 새로 설치된 pytagcloud의 fonts에 추가해야함    \n",
    "  C:\\Anaconda3\\Lib\\site-packages\\pytagcloud\\fonts 폴더에서    \n",
    "  1) fonts.json 파일 열어서 다음의 내용 추가\n",
    "       {\n",
    "            \"name\": \"korean\",\n",
    "            \"ttf\": \"malgun.ttf\"\n",
    "       }\n",
    "  2) C:\\Windows\\Fonts 폴더에서 '맑은 고딕' 서체 복사 => fonts 폴더에 붙여넣기 "
   ]
  },
  {
   "cell_type": "code",
   "execution_count": 14,
   "metadata": {},
   "outputs": [
    {
     "name": "stdout",
     "output_type": "stream",
     "text": [
      "pygame 2.0.0 (SDL 2.0.12, python 3.7.6)\n",
      "Hello from the pygame community. https://www.pygame.org/contribute.html\n"
     ]
    }
   ],
   "source": [
    "import pytagcloud\n",
    "from IPython.display import Image"
   ]
  },
  {
   "cell_type": "code",
   "execution_count": 15,
   "metadata": {},
   "outputs": [
    {
     "data": {
      "text/plain": [
       "[{'color': (192, 84, 118), 'size': 109, 'tag': '분석'},\n",
       " {'color': (117, 99, 43), 'size': 80, 'tag': '데이터'},\n",
       " {'color': (143, 108, 133), 'size': 47, 'tag': '형태소'},\n",
       " {'color': (40, 138, 125), 'size': 47, 'tag': '전문가'},\n",
       " {'color': (100, 26, 90), 'size': 47, 'tag': '공부'}]"
      ]
     },
     "execution_count": 15,
     "metadata": {},
     "output_type": "execute_result"
    }
   ],
   "source": [
    "# tag에 color, size, tag 사전 구성\n",
    "word_count_list = pytagcloud.make_tags(top5, maxsize=80)\n",
    "word_count_list"
   ]
  },
  {
   "cell_type": "code",
   "execution_count": 16,
   "metadata": {},
   "outputs": [
    {
     "data": {
      "image/jpeg": "[encoded data removed]",
      "text/plain": [
       "<IPython.core.display.Image object>"
      ]
     },
     "execution_count": 16,
     "metadata": {},
     "output_type": "execute_result"
    }
   ],
   "source": [
    "pytagcloud.create_tag_image(word_count_list,\n",
    "                           'wordcloud.jpg',\n",
    "                           size=(900,600),\n",
    "                           fontname='korean',\n",
    "                           rectangular=False)\n",
    "Image('wordcloud.jpg')"
   ]
  },
  {
   "cell_type": "markdown",
   "metadata": {},
   "source": [
    "# 3. 뉴스 크롤링한 데이터 시각화"
   ]
  },
  {
   "cell_type": "code",
   "execution_count": 17,
   "metadata": {},
   "outputs": [],
   "source": [
    "from konlpy.tag import Kkma\n",
    "import pickle"
   ]
  },
  {
   "cell_type": "markdown",
   "metadata": {},
   "source": [
    "## news crawling 가져오기"
   ]
  },
  {
   "cell_type": "code",
   "execution_count": 18,
   "metadata": {},
   "outputs": [
    {
     "name": "stdout",
     "output_type": "stream",
     "text": [
      "49\n"
     ]
    },
    {
     "data": {
      "text/plain": [
       "['하태경 \"한국당 박찬주 영입? 그래서 지지율 안 오르는 듯\"',\n",
       " '오신환 \"선거법 갈등, \\'도농복합형 중대선거구제\\'로 파...',\n",
       " '가와이 日법무상, 오늘 사임..참의원 부인의 선거법 위...',\n",
       " \"이인영-나경원-오신환 '3+3회동'..선거제도 논의\",\n",
       " \"'선거법 위반' 황영철, 대법원 선고..의원직 상실 위...\",\n",
       " '김연철, 현대아산·관광공사 사장과 금강산 문제 협의',\n",
       " '통일부 장관, 현대아산·관광공사 사장 만난다..\"금강산...',\n",
       " '김정은, 금강산 독자개발 의욕.. 정부, 경협 지렛대 ...',\n",
       " '김연철 \"금강산 개별관광, 남북 협의시 실행방안 찾을 ...',\n",
       " '김연철 \"금강산 시설 北 일방적 조치 안돼..재산권 보...',\n",
       " \"'北인권결의안' 유엔총회 제3위원회 제출..日은 불참\",\n",
       " '북한인권결의안 유엔총회 제3위원회 상정..日 초안작성 ...',\n",
       " \"유엔, '세계 푸른 하늘의 날', 한국 제안 첫 공식 ...\",\n",
       " '\"미국, 정상간 친부 내세워 연말 넘기려 한다면 망상\"...',\n",
       " '김영철 \"美, 정상간 친분으로 시간끌기..어리석은 망상...',\n",
       " '\"美하원, 볼턴에 내주 출석요구\"..反트럼프 폭탄증언 가세하나',\n",
       " \"궁지 몰린 트럼프..볼턴 '우크라 의혹' 스모킹건 될까...\",\n",
       " \"트럼프 '우크라 스캔들' 다른 핵심 증언자, 백악관 떠...\",\n",
       " '美 주러대사 지명자 \"트럼프 개인변호사, 우크라 문제 ...',\n",
       " '\"트럼프-우크라 통화 녹취록서 \\'부리스마\\' 등 핵심단어...',\n",
       " '모친 모신 文대통령, 오늘 靑 복귀한다..장지서 靑으로',\n",
       " '문 대통령 모친 강한옥 여사 발인도 조용하게..비공개 ...',\n",
       " '어머니 떠나보낸 文대통령 오늘 장례미사..靑 복귀 시점...',\n",
       " '文대통령 모친 강한옥 여사 오늘 발인..비공개로 진행',\n",
       " '故 강한옥 여사 오늘 영결식..남편 옆자리서 영면',\n",
       " '현직 검사 \"조국 내사, 임명 전부터 시작된 듯\"..의혹 증폭',\n",
       " '내일부터 부산서 횡단보도 5m 이내 흡연하면 과태료 2만원',\n",
       " '트럼프, 배출가스 소송 美연방정부 지지 車업체에 \"땡큐\"',\n",
       " \"9월 생산·소비 '동반감소'..설비투자는 2.9%↑\",\n",
       " '삼성전자 3분기 영업익 7조7800억..전년비 55.7%↓',\n",
       " '삼성전자, 3분기 매출 62조원..전년比 5.28%↓',\n",
       " '한은 부총재 \"美연준 금리인하 예상부합..韓경제에 긍정적\"',\n",
       " \"'구타 시달리다 투신사망'한 전투경찰, 24년만에 순직 결정\",\n",
       " '김세연 \"한국당이 친일정당? 윤봉길 손녀도 오는데?\"',\n",
       " '네이버, 3분기 매출 전년比 19.1% 증가..\"인공지능의 힘\"',\n",
       " '신상진 \"황교안-나경원 불화설? 소통 부족..\"',\n",
       " '9월 생산·소비 동반 하락..설비투자 넉달째 증가세',\n",
       " '제주는 지금',\n",
       " '서소문 사진관',\n",
       " '서소문 사진관',\n",
       " '20대 국회',\n",
       " '문재인 대통령 모친 강한옥 여사 별세',\n",
       " '안마의자에 낀 두 살배기 결국 사망..논란된 119 지시',\n",
       " \"1만km 여정의 끝은 죽음의 냉동고였다 [구정은의 '수상한 GPS']\",\n",
       " '文대통령, 사흘만에 다시 부산행..모친 위독',\n",
       " '듬직한 게 아니라 비만입니다..지방간 놔뒀다 간암 걸린다',\n",
       " '대검 \"\\'나경원 악플 고소 사건\\' 처분 보류\" 일선청에 지시',\n",
       " '[서소문사진관]500m 상공 드론도 격추, 재밍건으로 무장한 한·아세안회의 경호단 출범',\n",
       " '[슬라맛빠기! 인도네시아] \"일본도 포기한 땅\"에서 일군 기적, 우리나라 해외 첫 수력발전소']"
      ]
     },
     "execution_count": 18,
     "metadata": {},
     "output_type": "execute_result"
    }
   ],
   "source": [
    "file = open(\"news_data.pickle\", mode='rb')\n",
    "crawling_data = pickle.load(file)\n",
    "print(len(crawling_data))\n",
    "crawling_data"
   ]
  },
  {
   "cell_type": "markdown",
   "metadata": {},
   "source": [
    "## 명사 추출"
   ]
  },
  {
   "cell_type": "code",
   "execution_count": 19,
   "metadata": {},
   "outputs": [
    {
     "name": "stdout",
     "output_type": "stream",
     "text": [
      "503\n"
     ]
    }
   ],
   "source": [
    "kkma = Kkma()\n",
    "\n",
    "ex_nouns = []\n",
    "for sent in crawling_data:\n",
    "    for noun in kkma.nouns(sent):\n",
    "        ex_nouns.append(noun)\n",
    "        \n",
    "print(len(ex_nouns))\n",
    "# ex_nouns"
   ]
  },
  {
   "cell_type": "markdown",
   "metadata": {},
   "source": [
    "## 명사 전처리 : 2음절 이상, 숫자 제외 -> dict"
   ]
  },
  {
   "cell_type": "code",
   "execution_count": 20,
   "metadata": {},
   "outputs": [],
   "source": [
    "from re import match"
   ]
  },
  {
   "cell_type": "code",
   "execution_count": 21,
   "metadata": {},
   "outputs": [],
   "source": [
    "nouns_count = {}\n",
    "\n",
    "for noun in ex_nouns:\n",
    "    if len(noun) >= 2 and not(match('^[0-9]', noun)):\n",
    "        nouns_count[noun] = nouns_count.get(noun, 0) + 1\n",
    "# nouns_count\n",
    "del nouns_count['오늘']"
   ]
  },
  {
   "cell_type": "markdown",
   "metadata": {},
   "source": [
    "## 단어 카운트"
   ]
  },
  {
   "cell_type": "code",
   "execution_count": 22,
   "metadata": {},
   "outputs": [],
   "source": [
    "from collections import Counter"
   ]
  },
  {
   "cell_type": "code",
   "execution_count": 23,
   "metadata": {},
   "outputs": [
    {
     "data": {
      "text/plain": [
       "[('트럼프', 6),\n",
       " ('대통령', 6),\n",
       " ('금강산', 5),\n",
       " ('모친', 5),\n",
       " ('여사', 4),\n",
       " ('한국', 3),\n",
       " ('선거법', 3),\n",
       " ('경원', 3),\n",
       " ('김연철', 3),\n",
       " ('연철', 3)]"
      ]
     },
     "execution_count": 23,
     "metadata": {},
     "output_type": "execute_result"
    }
   ],
   "source": [
    "counter = Counter(nouns_count)\n",
    "top10 = counter.most_common(n=10)\n",
    "top10"
   ]
  },
  {
   "cell_type": "markdown",
   "metadata": {},
   "source": [
    "## word cloud"
   ]
  },
  {
   "cell_type": "code",
   "execution_count": 24,
   "metadata": {},
   "outputs": [
    {
     "name": "stdout",
     "output_type": "stream",
     "text": [
      "[{'color': (215, 61, 44), 'size': 137, 'tag': '트럼프'}, {'color': (128, 126, 51), 'size': 137, 'tag': '대통령'}, {'color': (76, 32, 40), 'size': 118, 'tag': '금강산'}, {'color': (141, 45, 129), 'size': 118, 'tag': '모친'}, {'color': (76, 108, 15), 'size': 99, 'tag': '여사'}, {'color': (161, 84, 55), 'size': 80, 'tag': '한국'}, {'color': (99, 29, 148), 'size': 80, 'tag': '선거법'}, {'color': (60, 157, 30), 'size': 80, 'tag': '경원'}, {'color': (134, 208, 161), 'size': 80, 'tag': '김연철'}, {'color': (48, 220, 13), 'size': 80, 'tag': '연철'}]\n"
     ]
    },
    {
     "data": {
      "image/jpeg": "[encoded data removed]",
      "text/plain": [
       "<IPython.core.display.Image object>"
      ]
     },
     "execution_count": 24,
     "metadata": {},
     "output_type": "execute_result"
    }
   ],
   "source": [
    "word_count_list = pytagcloud.make_tags(top10, maxsize=80)\n",
    "print(word_count_list)\n",
    "\n",
    "pytagcloud.create_tag_image(word_count_list,\n",
    "                            'newsCrawling.jpg', \n",
    "                            size=(900, 600), \n",
    "                            fontname='korean', rectangular=False)\n",
    "Image('newsCrawling.jpg')"
   ]
  },
  {
   "cell_type": "code",
   "execution_count": null,
   "metadata": {},
   "outputs": [],
   "source": []
  }
 ],
 "metadata": {
  "kernelspec": {
   "display_name": "Python 3",
   "language": "python",
   "name": "python3"
  },
  "language_info": {
   "codemirror_mode": {
    "name": "ipython",
    "version": 3
   },
   "file_extension": ".py",
   "mimetype": "text/x-python",
   "name": "python",
   "nbconvert_exporter": "python",
   "pygments_lexer": "ipython3",
   "version": "3.7.6"
  }
 },
 "nbformat": 4,
 "nbformat_minor": 4
}
